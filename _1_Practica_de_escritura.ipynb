{
  "nbformat": 4,
  "nbformat_minor": 0,
  "metadata": {
    "colab": {
      "provenance": [],
      "include_colab_link": true
    },
    "kernelspec": {
      "name": "python3",
      "display_name": "Python 3"
    },
    "language_info": {
      "name": "python"
    }
  },
  "cells": [
    {
      "cell_type": "markdown",
      "metadata": {
        "id": "view-in-github",
        "colab_type": "text"
      },
      "source": [
        "<a href=\"https://colab.research.google.com/github/LuisDelgado09/Matematicas-Aplicadas/blob/main/_1_Practica_de_escritura.ipynb\" target=\"_parent\"><img src=\"https://colab.research.google.com/assets/colab-badge.svg\" alt=\"Open In Colab\"/></a>"
      ]
    },
    {
      "cell_type": "markdown",
      "source": [
        "**INTEGRANTES**\n",
        "\n",
        "- Luis Miguel Delgado Moreno A00410889\n",
        "- Geremy Javier Añazco Hernandez A00411261\n",
        "- Nicolas Erazo Velez A00411299"
      ],
      "metadata": {
        "id": "Hh0IAWH_bfnt"
      }
    },
    {
      "cell_type": "markdown",
      "source": [
        "Punto 1.1\n",
        "\n",
        "$$r = \\frac{A}{2\\pi g}$$\n",
        "\n",
        "Punto 1.2\n",
        "\n",
        "$$h = \\frac{3V}{A_b}$$\n",
        "\n",
        "Punto 1.3\n",
        "\n",
        "$$r = \\sqrt[3]{\\frac{3V}{4\\pi}}$$\n",
        "\n",
        "Punto 1.4\n",
        "\n",
        "$$h = \\frac{2A}{B + b}$$\n",
        "\n",
        "Punto 1.5\n",
        "\n",
        "$$t = \\frac{q}{I}$$\n",
        "\n",
        "Punto 1.6\n",
        "\n",
        "$$R = \\frac{V}{I}$$\n",
        "\n",
        "Punto 1.7\n",
        "\n",
        "$$t = \\frac{E R}{V^2}$$\n",
        "\n",
        "Punto 1.8\n",
        "\n",
        "$$R = \\frac{1}{\\frac{1}{R_1} + \\frac{1}{R_2}}$$\n",
        "\n",
        "Punto 1.9\n",
        "\n",
        "$$P_f = \\frac{P_0 V_0 T_f}{T_0 V_f}$$\n",
        "\n",
        "Punto 1.10\n",
        "\n",
        "$$V_B = V_A - I R$$\n",
        "\n",
        "\n",
        "\n",
        "\n",
        "\n",
        "\n",
        "\n",
        "\n"
      ],
      "metadata": {
        "id": "02zUMfjLD8Hc"
      }
    },
    {
      "cell_type": "markdown",
      "source": [
        "Punto 2"
      ],
      "metadata": {
        "id": "S6H_KSFAJHG-"
      }
    },
    {
      "cell_type": "code",
      "source": [
        "y= float ((3 * (-5 + 10 + 5 * (-5)) - 2 * ((-2) + (-4) + 10)) ** 2)\n",
        "print (y)"
      ],
      "metadata": {
        "colab": {
          "base_uri": "https://localhost:8080/"
        },
        "id": "8XxSDgyLF5xm",
        "outputId": "ed3a5867-380b-46cd-a786-03c9661ba996"
      },
      "execution_count": null,
      "outputs": [
        {
          "output_type": "stream",
          "name": "stdout",
          "text": [
            "4624.0\n"
          ]
        }
      ]
    },
    {
      "cell_type": "code",
      "source": [
        "f= (45 + (3* (2 + 8) -8/4) + 10 - 83)\n",
        "print (f)"
      ],
      "metadata": {
        "colab": {
          "base_uri": "https://localhost:8080/"
        },
        "id": "5Q_TUJrXJJbF",
        "outputId": "e922ccd0-adea-40bb-b78b-fdef659addd0"
      },
      "execution_count": null,
      "outputs": [
        {
          "output_type": "stream",
          "name": "stdout",
          "text": [
            "0.0\n"
          ]
        }
      ]
    },
    {
      "cell_type": "code",
      "source": [
        "a= (((-4+7)*2-10)*(-4)-7-3)\n",
        "print (a)"
      ],
      "metadata": {
        "id": "MTCsgVPeLOfN",
        "colab": {
          "base_uri": "https://localhost:8080/"
        },
        "outputId": "6b2ef3b3-5e78-4fe2-a09d-2feba1b9b279"
      },
      "execution_count": null,
      "outputs": [
        {
          "output_type": "stream",
          "name": "stdout",
          "text": [
            "6\n"
          ]
        }
      ]
    },
    {
      "cell_type": "markdown",
      "source": [
        "Punto 3"
      ],
      "metadata": {
        "id": "hDr77THoaPFy"
      }
    },
    {
      "cell_type": "markdown",
      "source": [
        "$$\\frac{1}{5}[(\\frac{1}{2})^2+(\\frac{3}{4})^2]+\\frac{10}{25}[(\\frac{1}{2})^2+(\\frac{3}{4})^2]+\\frac{8}{40}[(\\frac{1}{2})^2+(\\frac{3}{4})^2]$$"
      ],
      "metadata": {
        "id": "WhQySh9Zcnxs"
      }
    },
    {
      "cell_type": "code",
      "source": [
        "PuntoTres = (1/5) * ((1/2)**2 + (3/4)**2) + (10/25) * ((1/2)**2 + (3/4)**2) + (8/40) * ((1/2)**2 + (3/4)**2)\n",
        "print(PuntoTres)"
      ],
      "metadata": {
        "colab": {
          "base_uri": "https://localhost:8080/"
        },
        "id": "C-MS3J04cff_",
        "outputId": "8151b85c-c110-4606-c1c4-366c9f30de7b"
      },
      "execution_count": null,
      "outputs": [
        {
          "output_type": "stream",
          "name": "stdout",
          "text": [
            "0.65\n"
          ]
        }
      ]
    },
    {
      "cell_type": "markdown",
      "source": [
        "$$\\frac{9}{4}(\\frac{6}{8})^{-1}-\\frac{5}{2}(\\frac{25}{20})^{-1}+\\frac{40}{8}(\\frac{20}{16})^{-1}$$"
      ],
      "metadata": {
        "id": "ix2shfWIehGU"
      }
    },
    {
      "cell_type": "code",
      "source": [
        "PuntoTres2= (9/4) * (6/8)**-1 - (5/2) * (25/20)**-1 + (40/8) * (20/16)**-1\n",
        "print(PuntoTres2)"
      ],
      "metadata": {
        "colab": {
          "base_uri": "https://localhost:8080/"
        },
        "id": "TNvS0tpGfUxP",
        "outputId": "f604278b-d5d6-4ca0-dae2-2c13d6d31a61"
      },
      "execution_count": null,
      "outputs": [
        {
          "output_type": "stream",
          "name": "stdout",
          "text": [
            "5.0\n"
          ]
        }
      ]
    },
    {
      "cell_type": "markdown",
      "source": [
        "Punto 4."
      ],
      "metadata": {
        "id": "ROGgarlnH_zz"
      }
    },
    {
      "cell_type": "code",
      "source": [
        "nombre = input(\"Cual es tu nombre? \")\n",
        "peso = int(input(\"Cual es tu peso? \"))\n",
        "talla = float(input(\"Cual es tu talla? en metros \"))\n",
        "imc = peso / (talla ** 2)\n",
        "print(f\"Tu imc es {imc}\")"
      ],
      "metadata": {
        "colab": {
          "base_uri": "https://localhost:8080/"
        },
        "id": "FlX27mBjHx4L",
        "outputId": "e814e216-fef6-4ce4-fbd3-0f5380393505"
      },
      "execution_count": null,
      "outputs": [
        {
          "output_type": "stream",
          "name": "stdout",
          "text": [
            "Cual es tu nombre? nicolas\n",
            "Cual es tu peso? 64\n",
            "Cual es tu talla? en metros 1.71\n",
            "Tu imc es 21.887076365377382\n"
          ]
        }
      ]
    },
    {
      "cell_type": "code",
      "source": [
        "\n",
        "a = 1/2\n",
        "b = 3/4\n",
        "\n",
        "\n",
        "expr1 = (1/5) * (a**2 + b**2) + (10/25) * (a**2 + b**2) + (8/40) * (a**2 + b**2)\n",
        "\n",
        "\n",
        "expr2 = (9/4) * (6/8)**-1 - (5/2) * (25/20)**-1 + (40/8) * (20/16)**-1\n",
        "\n",
        "\n",
        "print(\"Resultado de la primera expresión:\", expr1)\n",
        "print(\"Resultado de la segunda expresión:\", expr2)\n"
      ],
      "metadata": {
        "colab": {
          "base_uri": "https://localhost:8080/"
        },
        "id": "zfZbLKNgJZnQ",
        "outputId": "fb6fa46d-8e0b-4c26-a32d-eaa1a2dd5d6e"
      },
      "execution_count": null,
      "outputs": [
        {
          "output_type": "stream",
          "name": "stdout",
          "text": [
            "Resultado de la primera expresión: 0.65\n",
            "Resultado de la segunda expresión: 5.0\n"
          ]
        }
      ]
    },
    {
      "cell_type": "markdown",
      "source": [
        "PUNTO 5"
      ],
      "metadata": {
        "id": "Iab0XJbvLebn"
      }
    },
    {
      "cell_type": "code",
      "source": [
        "Numero1= int(input(\"Ingrese el primer número:\"))\n",
        "\n",
        "Numero2= int(input(\"Ingrese el segundo número:\"))\n",
        "\n",
        "suma= (Numero1+Numero2)\n",
        "resta= (Numero1-Numero2)\n",
        "producto= (Numero1+Numero2)\n",
        "Cociente= (Numero1/Numero2)\n",
        "\n",
        "print(\"El resultado de la suma es\", suma)\n",
        "print(\"El resultado de la resta es\",resta)\n",
        "print(\"El resultado del producto es\", producto)\n",
        "print(\"El resultado del cociente es\", Cociente)"
      ],
      "metadata": {
        "id": "UFI4VnuvLTJG"
      },
      "execution_count": null,
      "outputs": []
    },
    {
      "cell_type": "markdown",
      "source": [
        "Punto 6"
      ],
      "metadata": {
        "id": "qubajNnrJyjQ"
      }
    },
    {
      "cell_type": "code",
      "source": [
        "Ppetroleo = [76.24, 77.88, 78.31, 77.22, 76.71, 76.45, 77.17]\n",
        "PlitroCoca = 1.09 #Precio en dolares.\n",
        "PbarrilCoca = 0.00628981 * 1.09\n",
        "for i in Ppetroleo:\n",
        "  proporcion = i/PlitroCoca\n",
        "  print(\"Precio petroleo: \", i, \"Precio barril de cocaCola: \", PbarrilCoca, \"Proporcion: \", proporcion)\n"
      ],
      "metadata": {
        "id": "SqmRWJrkJ1En",
        "colab": {
          "base_uri": "https://localhost:8080/"
        },
        "outputId": "1c4dd7fb-52d3-451f-e8f9-08b4093b42e7"
      },
      "execution_count": null,
      "outputs": [
        {
          "output_type": "stream",
          "name": "stdout",
          "text": [
            "Precio petroleo:  76.24 Precio barril de cocaCola:  0.0068558929000000005 Proporcion:  69.94495412844036\n",
            "Precio petroleo:  77.88 Precio barril de cocaCola:  0.0068558929000000005 Proporcion:  71.44954128440367\n",
            "Precio petroleo:  78.31 Precio barril de cocaCola:  0.0068558929000000005 Proporcion:  71.8440366972477\n",
            "Precio petroleo:  77.22 Precio barril de cocaCola:  0.0068558929000000005 Proporcion:  70.8440366972477\n",
            "Precio petroleo:  76.71 Precio barril de cocaCola:  0.0068558929000000005 Proporcion:  70.37614678899081\n",
            "Precio petroleo:  76.45 Precio barril de cocaCola:  0.0068558929000000005 Proporcion:  70.13761467889908\n",
            "Precio petroleo:  77.17 Precio barril de cocaCola:  0.0068558929000000005 Proporcion:  70.79816513761467\n"
          ]
        }
      ]
    },
    {
      "cell_type": "markdown",
      "source": [
        "Observaciones: con un precio fluctuante, el barril de petroleo aumentó ligeramente su precio en los ultimos dias, pasando de valer de alrededor de 69.4 litros de coca a 70.8."
      ],
      "metadata": {
        "id": "CRCIILlcXNh7"
      }
    }
  ]
}