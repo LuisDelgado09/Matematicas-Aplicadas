{
  "nbformat": 4,
  "nbformat_minor": 0,
  "metadata": {
    "colab": {
      "provenance": [],
      "include_colab_link": true
    },
    "kernelspec": {
      "name": "python3",
      "display_name": "Python 3"
    },
    "language_info": {
      "name": "python"
    }
  },
  "cells": [
    {
      "cell_type": "markdown",
      "metadata": {
        "id": "view-in-github",
        "colab_type": "text"
      },
      "source": [
        "<a href=\"https://colab.research.google.com/github/LuisDelgado09/Matematicas-Aplicadas/blob/main/banco.ipynb\" target=\"_parent\"><img src=\"https://colab.research.google.com/assets/colab-badge.svg\" alt=\"Open In Colab\"/></a>"
      ]
    },
    {
      "cell_type": "markdown",
      "source": [
        "#Estudiantes:\n",
        "* Geremy Añazco - A00411261\n",
        "* Luis Miguel Delgado - A00410889\n",
        "* Nicolas Erazo - A00411299\n",
        "* Nicolás Tascón - A00411283\n",
        "* Miguel Angel Blanco - A00410773"
      ],
      "metadata": {
        "id": "o0nlntII7yC1"
      }
    },
    {
      "cell_type": "code",
      "execution_count": null,
      "metadata": {
        "colab": {
          "base_uri": "https://localhost:8080/"
        },
        "id": "abvGlYiv-v98",
        "outputId": "660e565a-eed4-4888-d8f7-2813728715bd"
      },
      "outputs": [
        {
          "name": "stdout",
          "output_type": "stream",
          "text": [
            "Ingrese sus datos para registrarse en el sistema\n",
            "Usuario: Luis\n",
            "Contraseña: Mayo182007\n",
            "Registrado con exito\n",
            "El numero de su cuenta es: 56650769880\n",
            "Bienvenido a bancolombia!\n",
            "oprima cualquier boton para comenzar.\n",
            "\n",
            "Usuario: Luis\n",
            "Contraseña: Mayo182007\n",
            "Bienvenido\n",
            "Bienvenido al menu\n",
            "1. Consultar saldo\n",
            "2. Depositar saldo\n",
            "3. Retirar saldo\n",
            "4. Salir\n",
            "Ingrese una opcion: 1\n",
            "Su saldo es: 1000\n",
            "Bienvenido al menu\n",
            "1. Consultar saldo\n",
            "2. Depositar saldo\n",
            "3. Retirar saldo\n",
            "4. Salir\n",
            "Ingrese una opcion: 2\n",
            "Ingrese el monto a depositar: 31\n",
            "Su saldo es: 1031\n",
            "Bienvenido al menu\n",
            "1. Consultar saldo\n",
            "2. Depositar saldo\n",
            "3. Retirar saldo\n",
            "4. Salir\n",
            "Ingrese una opcion: 4\n",
            "Gracias por usar nuestro sistema.\n",
            "oprima cualquier boton para comenzar.\n",
            "\n"
          ]
        }
      ],
      "source": [
        "import random\n",
        "# @title Texto de título predeterminado\n",
        "saldo = 1000\n",
        "Iniciado = False\n",
        "\n",
        "print(\"Ingrese sus datos para registrarse en el sistema\")\n",
        "Usuario = input(\"Usuario: \")\n",
        "Contraseña = input(\"Contraseña: \")\n",
        "print(\"Registrado con exito\")\n",
        "numeroCuenta = random.randint(10000000000, 99999999999)\n",
        "print(f\"El numero de su cuenta es: {numeroCuenta}\")\n",
        "\n",
        "#Funcion para iniciar sesion\n",
        "def iniciarSesion(usuarioRegistrado, contraseñaRegistrada):\n",
        "  global Iniciado\n",
        "  UsuarioIntento = input(\"Usuario: \")\n",
        "  ContraseñaIntento = input(\"Contraseña: \")\n",
        "  while (UsuarioIntento != usuarioRegistrado or ContraseñaIntento != contraseñaRegistrada):\n",
        "    print(\"Usuario o contraseña incorrectos\")\n",
        "    UsuarioIntento = input(\"Usuario: \")\n",
        "    ContraseñaIntento = input(\"Contraseña: \")\n",
        "  print(\"Bienvenido\")\n",
        "  Iniciado = True\n",
        "\n",
        "#Funcion para imprimir el saldo\n",
        "def consultarSaldo():\n",
        "  global saldo\n",
        "  print(f\"Su saldo es: {saldo}\")\n",
        "\n",
        "#Funcion para depositar dinero\n",
        "def depositarSaldo():\n",
        "  global saldo\n",
        "  monto = int(input(\"Ingrese el monto a depositar: \"))\n",
        "  while (monto <= 0):\n",
        "    print(\"El monto debe ser mayor a 0\")\n",
        "    monto = int(input(\"Ingrese el monto a depositar: \"))\n",
        "  saldo += monto\n",
        "  print(f\"Su saldo es: {saldo}\")\n",
        "\n",
        "#Funcion para retirar dinero\n",
        "def retirarSaldo():\n",
        "  global saldo\n",
        "  monto = int(input(\"Ingrese el monto a retirar: \"))\n",
        "  if monto > saldo:\n",
        "    print(\"No tiene suficiente saldo\")\n",
        "  else:\n",
        "    saldo -= monto\n",
        "    print(f\"Su saldo es: {saldo}\")\n",
        "#Menu principal\n",
        "def menu():\n",
        "  global Iniciado\n",
        "  print(\"Bienvenido al menu\")\n",
        "  print(\"1. Consultar saldo\")\n",
        "  print(\"2. Depositar saldo\")\n",
        "  print(\"3. Retirar saldo\")\n",
        "  print(\"4. Salir\")\n",
        "  opt = int(input(\"Ingrese una opcion: \"))\n",
        "  while (opt < 1 or opt > 4):\n",
        "    print(\"Opcion no válida.\")\n",
        "    opt = input(\"Ingrese una opcion: \")\n",
        "  if opt == 1:\n",
        "    consultarSaldo()\n",
        "  elif opt == 2:\n",
        "    depositarSaldo()\n",
        "  elif opt == 3:\n",
        "    retirarSaldo()\n",
        "  elif opt == 4:\n",
        "    print(\"Gracias por usar nuestro sistema.\")\n",
        "    Iniciado = False\n",
        "print(\"Bienvenido a bancolombia!\")\n",
        "\n",
        "#Ciclo principal\n",
        "\n",
        "while True:\n",
        "  print(\"oprima cualquier boton para comenzar.\")\n",
        "  x = input()\n",
        "  if not Iniciado:\n",
        "    iniciarSesion(Usuario, Contraseña)\n",
        "  while Iniciado:\n",
        "    menu()"
      ]
    }
  ]
}