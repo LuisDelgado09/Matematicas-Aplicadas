{
  "nbformat": 4,
  "nbformat_minor": 0,
  "metadata": {
    "colab": {
      "provenance": []
    },
    "kernelspec": {
      "name": "python3",
      "display_name": "Python 3"
    },
    "language_info": {
      "name": "python"
    }
  },
  "cells": [
    {
      "cell_type": "markdown",
      "source": [
        "#Estudiantes:\n",
        "* Geremy Añazco - A00411261\n",
        "* Luis Miguel Delgado - A00410889\n",
        "* Nicolas Erazo - A00411299\n",
        "* Nicolás Tascón - A00411283\n",
        "* Miguel Angel Blanco - A00410773"
      ],
      "metadata": {
        "id": "o0nlntII7yC1"
      }
    },
    {
      "cell_type": "code",
      "execution_count": null,
      "metadata": {
        "colab": {
          "base_uri": "https://localhost:8080/",
          "height": 964
        },
        "id": "abvGlYiv-v98",
        "outputId": "cc3fa855-0ab6-4660-ba99-37550a9b0e78"
      },
      "outputs": [
        {
          "name": "stdout",
          "output_type": "stream",
          "text": [
            "Ingrese sus datos para registrarse en el sistema\n",
            "Usuario: Yas\n",
            "Contraseña: Qert\n",
            "Registrado con exito\n",
            "El numero de su cuenta es: 17434771939\n",
            "Bienvenido a bancolombia!\n",
            "oprima cualquier boton para comenzar.\n",
            "O\n",
            "Usuario: Yas\n",
            "Contraseña: Qert\n",
            "Bienvenido\n",
            "Bienvenido al menu\n",
            "1. Consultar saldo\n",
            "2. Depositar saldo\n",
            "3. Retirar saldo\n",
            "4. Salir\n",
            "Ingrese una opcion: 1\n",
            "Su saldo es: 1000\n",
            "Bienvenido al menu\n",
            "1. Consultar saldo\n",
            "2. Depositar saldo\n",
            "3. Retirar saldo\n",
            "4. Salir\n",
            "Ingrese una opcion: 3\n",
            "Ingrese el monto a retirar: 2000\n",
            "No tiene suficiente saldo\n",
            "Bienvenido al menu\n",
            "1. Consultar saldo\n",
            "2. Depositar saldo\n",
            "3. Retirar saldo\n",
            "4. Salir\n",
            "Ingrese una opcion: 4\n",
            "Gracias por usar nuestro sistema.\n",
            "oprima cualquier boton para comenzar.\n",
            "R y\n"
          ]
        },
        {
          "output_type": "error",
          "ename": "KeyboardInterrupt",
          "evalue": "Interrupted by user",
          "traceback": [
            "\u001b[0;31m---------------------------------------------------------------------------\u001b[0m",
            "\u001b[0;31mKeyboardInterrupt\u001b[0m                         Traceback (most recent call last)",
            "\u001b[0;32m<ipython-input-27-babd9e6f9383>\u001b[0m in \u001b[0;36m<cell line: 0>\u001b[0;34m()\u001b[0m\n\u001b[1;32m     73\u001b[0m   \u001b[0mx\u001b[0m \u001b[0;34m=\u001b[0m \u001b[0minput\u001b[0m\u001b[0;34m(\u001b[0m\u001b[0;34m)\u001b[0m\u001b[0;34m\u001b[0m\u001b[0;34m\u001b[0m\u001b[0m\n\u001b[1;32m     74\u001b[0m   \u001b[0;32mif\u001b[0m \u001b[0;32mnot\u001b[0m \u001b[0mIniciado\u001b[0m\u001b[0;34m:\u001b[0m\u001b[0;34m\u001b[0m\u001b[0;34m\u001b[0m\u001b[0m\n\u001b[0;32m---> 75\u001b[0;31m     \u001b[0miniciarSesion\u001b[0m\u001b[0;34m(\u001b[0m\u001b[0mUsuario\u001b[0m\u001b[0;34m,\u001b[0m \u001b[0mContraseña\u001b[0m\u001b[0;34m)\u001b[0m\u001b[0;34m\u001b[0m\u001b[0;34m\u001b[0m\u001b[0m\n\u001b[0m\u001b[1;32m     76\u001b[0m   \u001b[0;32mwhile\u001b[0m \u001b[0mIniciado\u001b[0m\u001b[0;34m:\u001b[0m\u001b[0;34m\u001b[0m\u001b[0;34m\u001b[0m\u001b[0m\n\u001b[1;32m     77\u001b[0m     \u001b[0mmenu\u001b[0m\u001b[0;34m(\u001b[0m\u001b[0;34m)\u001b[0m\u001b[0;34m\u001b[0m\u001b[0;34m\u001b[0m\u001b[0m\n",
            "\u001b[0;32m<ipython-input-27-babd9e6f9383>\u001b[0m in \u001b[0;36miniciarSesion\u001b[0;34m(usuarioRegistrado, contraseñaRegistrada)\u001b[0m\n\u001b[1;32m     14\u001b[0m \u001b[0;32mdef\u001b[0m \u001b[0miniciarSesion\u001b[0m\u001b[0;34m(\u001b[0m\u001b[0musuarioRegistrado\u001b[0m\u001b[0;34m,\u001b[0m \u001b[0mcontraseñaRegistrada\u001b[0m\u001b[0;34m)\u001b[0m\u001b[0;34m:\u001b[0m\u001b[0;34m\u001b[0m\u001b[0;34m\u001b[0m\u001b[0m\n\u001b[1;32m     15\u001b[0m   \u001b[0;32mglobal\u001b[0m \u001b[0mIniciado\u001b[0m\u001b[0;34m\u001b[0m\u001b[0;34m\u001b[0m\u001b[0m\n\u001b[0;32m---> 16\u001b[0;31m   \u001b[0mUsuarioIntento\u001b[0m \u001b[0;34m=\u001b[0m \u001b[0minput\u001b[0m\u001b[0;34m(\u001b[0m\u001b[0;34m\"Usuario: \"\u001b[0m\u001b[0;34m)\u001b[0m\u001b[0;34m\u001b[0m\u001b[0;34m\u001b[0m\u001b[0m\n\u001b[0m\u001b[1;32m     17\u001b[0m   \u001b[0mContraseñaIntento\u001b[0m \u001b[0;34m=\u001b[0m \u001b[0minput\u001b[0m\u001b[0;34m(\u001b[0m\u001b[0;34m\"Contraseña: \"\u001b[0m\u001b[0;34m)\u001b[0m\u001b[0;34m\u001b[0m\u001b[0;34m\u001b[0m\u001b[0m\n\u001b[1;32m     18\u001b[0m   \u001b[0;32mwhile\u001b[0m \u001b[0;34m(\u001b[0m\u001b[0mUsuarioIntento\u001b[0m \u001b[0;34m!=\u001b[0m \u001b[0musuarioRegistrado\u001b[0m \u001b[0;32mor\u001b[0m \u001b[0mContraseñaIntento\u001b[0m \u001b[0;34m!=\u001b[0m \u001b[0mcontraseñaRegistrada\u001b[0m\u001b[0;34m)\u001b[0m\u001b[0;34m:\u001b[0m\u001b[0;34m\u001b[0m\u001b[0;34m\u001b[0m\u001b[0m\n",
            "\u001b[0;32m/usr/local/lib/python3.11/dist-packages/ipykernel/kernelbase.py\u001b[0m in \u001b[0;36mraw_input\u001b[0;34m(self, prompt)\u001b[0m\n\u001b[1;32m   1175\u001b[0m                 \u001b[0;34m\"raw_input was called, but this frontend does not support input requests.\"\u001b[0m\u001b[0;34m\u001b[0m\u001b[0;34m\u001b[0m\u001b[0m\n\u001b[1;32m   1176\u001b[0m             )\n\u001b[0;32m-> 1177\u001b[0;31m         return self._input_request(\n\u001b[0m\u001b[1;32m   1178\u001b[0m             \u001b[0mstr\u001b[0m\u001b[0;34m(\u001b[0m\u001b[0mprompt\u001b[0m\u001b[0;34m)\u001b[0m\u001b[0;34m,\u001b[0m\u001b[0;34m\u001b[0m\u001b[0;34m\u001b[0m\u001b[0m\n\u001b[1;32m   1179\u001b[0m             \u001b[0mself\u001b[0m\u001b[0;34m.\u001b[0m\u001b[0m_parent_ident\u001b[0m\u001b[0;34m[\u001b[0m\u001b[0;34m\"shell\"\u001b[0m\u001b[0;34m]\u001b[0m\u001b[0;34m,\u001b[0m\u001b[0;34m\u001b[0m\u001b[0;34m\u001b[0m\u001b[0m\n",
            "\u001b[0;32m/usr/local/lib/python3.11/dist-packages/ipykernel/kernelbase.py\u001b[0m in \u001b[0;36m_input_request\u001b[0;34m(self, prompt, ident, parent, password)\u001b[0m\n\u001b[1;32m   1217\u001b[0m             \u001b[0;32mexcept\u001b[0m \u001b[0mKeyboardInterrupt\u001b[0m\u001b[0;34m:\u001b[0m\u001b[0;34m\u001b[0m\u001b[0;34m\u001b[0m\u001b[0m\n\u001b[1;32m   1218\u001b[0m                 \u001b[0;31m# re-raise KeyboardInterrupt, to truncate traceback\u001b[0m\u001b[0;34m\u001b[0m\u001b[0;34m\u001b[0m\u001b[0m\n\u001b[0;32m-> 1219\u001b[0;31m                 \u001b[0;32mraise\u001b[0m \u001b[0mKeyboardInterrupt\u001b[0m\u001b[0;34m(\u001b[0m\u001b[0;34m\"Interrupted by user\"\u001b[0m\u001b[0;34m)\u001b[0m \u001b[0;32mfrom\u001b[0m \u001b[0;32mNone\u001b[0m\u001b[0;34m\u001b[0m\u001b[0;34m\u001b[0m\u001b[0m\n\u001b[0m\u001b[1;32m   1220\u001b[0m             \u001b[0;32mexcept\u001b[0m \u001b[0mException\u001b[0m\u001b[0;34m:\u001b[0m\u001b[0;34m\u001b[0m\u001b[0;34m\u001b[0m\u001b[0m\n\u001b[1;32m   1221\u001b[0m                 \u001b[0mself\u001b[0m\u001b[0;34m.\u001b[0m\u001b[0mlog\u001b[0m\u001b[0;34m.\u001b[0m\u001b[0mwarning\u001b[0m\u001b[0;34m(\u001b[0m\u001b[0;34m\"Invalid Message:\"\u001b[0m\u001b[0;34m,\u001b[0m \u001b[0mexc_info\u001b[0m\u001b[0;34m=\u001b[0m\u001b[0;32mTrue\u001b[0m\u001b[0;34m)\u001b[0m\u001b[0;34m\u001b[0m\u001b[0;34m\u001b[0m\u001b[0m\n",
            "\u001b[0;31mKeyboardInterrupt\u001b[0m: Interrupted by user"
          ]
        }
      ],
      "source": [
        "import random\n",
        "# @title Texto de título predeterminado\n",
        "saldo = 1000\n",
        "Iniciado = False\n",
        "\n",
        "print(\"Ingrese sus datos para registrarse en el sistema\")\n",
        "Usuario = input(\"Usuario: \")\n",
        "Contraseña = input(\"Contraseña: \")\n",
        "print(\"Registrado con exito\")\n",
        "numeroCuenta = random.randint(10000000000, 99999999999)\n",
        "print(f\"El numero de su cuenta es: {numeroCuenta}\")\n",
        "\n",
        "#Funcion para iniciar sesion\n",
        "def iniciarSesion(usuarioRegistrado, contraseñaRegistrada):\n",
        "  global Iniciado\n",
        "  UsuarioIntento = input(\"Usuario: \")\n",
        "  ContraseñaIntento = input(\"Contraseña: \")\n",
        "  while (UsuarioIntento != usuarioRegistrado or ContraseñaIntento != contraseñaRegistrada):\n",
        "    print(\"Usuario o contraseña incorrectos\")\n",
        "    UsuarioIntento = input(\"Usuario: \")\n",
        "    ContraseñaIntento = input(\"Contraseña: \")\n",
        "  print(\"Bienvenido\")\n",
        "  Iniciado = True\n",
        "\n",
        "#Funcion para imprimir el saldo\n",
        "def consultarSaldo():\n",
        "  global saldo\n",
        "  print(f\"Su saldo es: {saldo}\")\n",
        "\n",
        "#Funcion para depositar dinero\n",
        "def depositarSaldo():\n",
        "  global saldo\n",
        "  monto = int(input(\"Ingrese el monto a depositar: \"))\n",
        "  while (monto <= 0):\n",
        "    print(\"El monto debe ser mayor a 0\")\n",
        "    monto = int(input(\"Ingrese el monto a depositar: \"))\n",
        "  saldo += monto\n",
        "  print(f\"Su saldo es: {saldo}\")\n",
        "\n",
        "#Funcion para retirar dinero\n",
        "def retirarSaldo():\n",
        "  global saldo\n",
        "  monto = int(input(\"Ingrese el monto a retirar: \"))\n",
        "  if monto > saldo:\n",
        "    print(\"No tiene suficiente saldo\")\n",
        "  else:\n",
        "    saldo -= monto\n",
        "    print(f\"Su saldo es: {saldo}\")\n",
        "#Menu principal\n",
        "def menu():\n",
        "  global Iniciado\n",
        "  print(\"Bienvenido al menu\")\n",
        "  print(\"1. Consultar saldo\")\n",
        "  print(\"2. Depositar saldo\")\n",
        "  print(\"3. Retirar saldo\")\n",
        "  print(\"4. Salir\")\n",
        "  opt = int(input(\"Ingrese una opcion: \"))\n",
        "  while (opt < 1 or opt > 4):\n",
        "    print(\"Opcion no válida.\")\n",
        "    opt = input(\"Ingrese una opcion: \")\n",
        "  if opt == 1:\n",
        "    consultarSaldo()\n",
        "  elif opt == 2:\n",
        "    depositarSaldo()\n",
        "  elif opt == 3:\n",
        "    retirarSaldo()\n",
        "  elif opt == 4:\n",
        "    print(\"Gracias por usar nuestro sistema.\")\n",
        "    Iniciado = False\n",
        "print(\"Bienvenido a bancolombia!\")\n",
        "\n",
        "#Ciclo principal\n",
        "\n",
        "while True:\n",
        "  print(\"oprima cualquier boton para comenzar.\")\n",
        "  x = input()\n",
        "  if not Iniciado:\n",
        "    iniciarSesion(Usuario, Contraseña)\n",
        "  while Iniciado:\n",
        "    menu()"
      ]
    }
  ]
}